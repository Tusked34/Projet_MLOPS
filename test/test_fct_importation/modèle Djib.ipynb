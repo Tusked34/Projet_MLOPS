{
 "cells": [
  {
   "cell_type": "code",
   "execution_count": 1,
   "metadata": {},
   "outputs": [],
   "source": [
    "#Importation de librairies\n",
    "import pandas as pd \n",
    "import numpy as np \n",
    "# Importer les bibliothèques nécessaires\n",
    "from sklearn.ensemble import RandomForestRegressor\n",
    "from sklearn.model_selection import train_test_split\n",
    "from sklearn.metrics import mean_squared_error, r2_score\n",
    "from sklearn.model_selection import KFold, cross_val_score\n",
    "from sklearn.preprocessing import OneHotEncoder, StandardScaler\n",
    "from sklearn.neighbors import KNeighborsRegressor\n"
   ]
  },
  {
   "cell_type": "code",
   "execution_count": 2,
   "metadata": {},
   "outputs": [
    {
     "data": {
      "text/html": [
       "<div>\n",
       "<style scoped>\n",
       "    .dataframe tbody tr th:only-of-type {\n",
       "        vertical-align: middle;\n",
       "    }\n",
       "\n",
       "    .dataframe tbody tr th {\n",
       "        vertical-align: top;\n",
       "    }\n",
       "\n",
       "    .dataframe thead th {\n",
       "        text-align: right;\n",
       "    }\n",
       "</style>\n",
       "<table border=\"1\" class=\"dataframe\">\n",
       "  <thead>\n",
       "    <tr style=\"text-align: right;\">\n",
       "      <th></th>\n",
       "      <th>TYPE</th>\n",
       "      <th>PRICE</th>\n",
       "      <th>BEDS</th>\n",
       "      <th>BATH</th>\n",
       "      <th>PROPERTYSQFT</th>\n",
       "      <th>BOROUGH</th>\n",
       "    </tr>\n",
       "  </thead>\n",
       "  <tbody>\n",
       "    <tr>\n",
       "      <th>0</th>\n",
       "      <td>Multi-family home for sale</td>\n",
       "      <td>1100000</td>\n",
       "      <td>6</td>\n",
       "      <td>3</td>\n",
       "      <td>2837</td>\n",
       "      <td>Bronx</td>\n",
       "    </tr>\n",
       "    <tr>\n",
       "      <th>1</th>\n",
       "      <td>Multi-family home for sale</td>\n",
       "      <td>925000</td>\n",
       "      <td>5</td>\n",
       "      <td>2</td>\n",
       "      <td>2750</td>\n",
       "      <td>Bronx</td>\n",
       "    </tr>\n",
       "    <tr>\n",
       "      <th>2</th>\n",
       "      <td>Multi-family home for sale</td>\n",
       "      <td>700000</td>\n",
       "      <td>6</td>\n",
       "      <td>2</td>\n",
       "      <td>3053</td>\n",
       "      <td>Bronx</td>\n",
       "    </tr>\n",
       "    <tr>\n",
       "      <th>3</th>\n",
       "      <td>Autre_Type</td>\n",
       "      <td>119000</td>\n",
       "      <td>3</td>\n",
       "      <td>2</td>\n",
       "      <td>2184</td>\n",
       "      <td>Bronx</td>\n",
       "    </tr>\n",
       "    <tr>\n",
       "      <th>4</th>\n",
       "      <td>Multi-family home for sale</td>\n",
       "      <td>600000</td>\n",
       "      <td>2</td>\n",
       "      <td>2</td>\n",
       "      <td>2184</td>\n",
       "      <td>Bronx</td>\n",
       "    </tr>\n",
       "    <tr>\n",
       "      <th>...</th>\n",
       "      <td>...</td>\n",
       "      <td>...</td>\n",
       "      <td>...</td>\n",
       "      <td>...</td>\n",
       "      <td>...</td>\n",
       "      <td>...</td>\n",
       "    </tr>\n",
       "    <tr>\n",
       "      <th>4791</th>\n",
       "      <td>Co-op for sale</td>\n",
       "      <td>280000</td>\n",
       "      <td>2</td>\n",
       "      <td>1</td>\n",
       "      <td>1050</td>\n",
       "      <td>Bronx</td>\n",
       "    </tr>\n",
       "    <tr>\n",
       "      <th>4792</th>\n",
       "      <td>Co-op for sale</td>\n",
       "      <td>375000</td>\n",
       "      <td>2</td>\n",
       "      <td>1</td>\n",
       "      <td>2184</td>\n",
       "      <td>Bronx</td>\n",
       "    </tr>\n",
       "    <tr>\n",
       "      <th>4793</th>\n",
       "      <td>Co-op for sale</td>\n",
       "      <td>167999</td>\n",
       "      <td>1</td>\n",
       "      <td>1</td>\n",
       "      <td>2184</td>\n",
       "      <td>Bronx</td>\n",
       "    </tr>\n",
       "    <tr>\n",
       "      <th>4794</th>\n",
       "      <td>Co-op for sale</td>\n",
       "      <td>309000</td>\n",
       "      <td>2</td>\n",
       "      <td>1</td>\n",
       "      <td>2184</td>\n",
       "      <td>Bronx</td>\n",
       "    </tr>\n",
       "    <tr>\n",
       "      <th>4795</th>\n",
       "      <td>Co-op for sale</td>\n",
       "      <td>295500</td>\n",
       "      <td>1</td>\n",
       "      <td>1</td>\n",
       "      <td>2184</td>\n",
       "      <td>Bronx</td>\n",
       "    </tr>\n",
       "  </tbody>\n",
       "</table>\n",
       "<p>4796 rows × 6 columns</p>\n",
       "</div>"
      ],
      "text/plain": [
       "                            TYPE    PRICE  BEDS  BATH  PROPERTYSQFT BOROUGH\n",
       "0     Multi-family home for sale  1100000     6     3          2837   Bronx\n",
       "1     Multi-family home for sale   925000     5     2          2750   Bronx\n",
       "2     Multi-family home for sale   700000     6     2          3053   Bronx\n",
       "3                     Autre_Type   119000     3     2          2184   Bronx\n",
       "4     Multi-family home for sale   600000     2     2          2184   Bronx\n",
       "...                          ...      ...   ...   ...           ...     ...\n",
       "4791              Co-op for sale   280000     2     1          1050   Bronx\n",
       "4792              Co-op for sale   375000     2     1          2184   Bronx\n",
       "4793              Co-op for sale   167999     1     1          2184   Bronx\n",
       "4794              Co-op for sale   309000     2     1          2184   Bronx\n",
       "4795              Co-op for sale   295500     1     1          2184   Bronx\n",
       "\n",
       "[4796 rows x 6 columns]"
      ]
     },
     "execution_count": 2,
     "metadata": {},
     "output_type": "execute_result"
    }
   ],
   "source": [
    "data=pd.read_csv(r'..\\data\\data_clean\\data_preprocess.csv')\n",
    "data\n"
   ]
  },
  {
   "cell_type": "code",
   "execution_count": 4,
   "metadata": {},
   "outputs": [],
   "source": [
    "\n"
   ]
  },
  {
   "cell_type": "code",
   "execution_count": 5,
   "metadata": {},
   "outputs": [
    {
     "name": "stdout",
     "output_type": "stream",
     "text": [
      "Mean Squared Error (MSE): 4722211458856.25\n",
      "Coefficient of Determination (R²): 0.50\n"
     ]
    }
   ],
   "source": [
    "\n"
   ]
  },
  {
   "cell_type": "code",
   "execution_count": 6,
   "metadata": {},
   "outputs": [
    {
     "name": "stdout",
     "output_type": "stream",
     "text": [
      "Mean MSE (k-fold): 6508420969961.52\n",
      "Mean R² (k-fold): 0.60\n"
     ]
    }
   ],
   "source": []
  },
  {
   "cell_type": "code",
   "execution_count": 53,
   "metadata": {},
   "outputs": [
    {
     "name": "stdout",
     "output_type": "stream",
     "text": [
      "Mean Squared Error (MSE): 4256319267448.76\n",
      "Coefficient of Determination (R²): 0.55\n"
     ]
    }
   ],
   "source": []
  }
 ],
 "metadata": {
  "kernelspec": {
   "display_name": "base",
   "language": "python",
   "name": "python3"
  },
  "language_info": {
   "codemirror_mode": {
    "name": "ipython",
    "version": 3
   },
   "file_extension": ".py",
   "mimetype": "text/x-python",
   "name": "python",
   "nbconvert_exporter": "python",
   "pygments_lexer": "ipython3",
   "version": "3.9.13"
  }
 },
 "nbformat": 4,
 "nbformat_minor": 2
}
